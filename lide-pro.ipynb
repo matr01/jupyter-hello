{
 "cells": [
  {
   "cell_type": "markdown",
   "metadata": {},
   "source": [
    "# Příspěvky na transparentním účtu Lidé PRO\n",
    "\n",
    "- základní statistiky a grafy"
   ]
  },
  {
   "cell_type": "code",
   "execution_count": 1,
   "metadata": {},
   "outputs": [],
   "source": [
    "import pandas as pd\n",
    "import numpy as np\n",
    "import matplotlib.pyplot as plt\n",
    "import matplotlib\n",
    "import seaborn as sns\n",
    "sns.set_theme(style=\"darkgrid\", palette=\"colorblind\", font_scale=1.1, rc={'figure.figsize':(16,8)})"
   ]
  },
  {
   "cell_type": "markdown",
   "metadata": {},
   "source": [
    "## Načtení dat\n",
    "\n",
    "- načte všechny transakce z transparentního účtu\n",
    "  - aktuálně je definováno rozmezí 20.10.2020 (pár dní před prvními příspěvky) až 31.12.2020\n",
    "- pročistí data pro účely dalších výpočtů"
   ]
  },
  {
   "cell_type": "code",
   "execution_count": 2,
   "metadata": {},
   "outputs": [
    {
     "data": {
      "text/html": [
       "<div>\n",
       "<style scoped>\n",
       "    .dataframe tbody tr th:only-of-type {\n",
       "        vertical-align: middle;\n",
       "    }\n",
       "\n",
       "    .dataframe tbody tr th {\n",
       "        vertical-align: top;\n",
       "    }\n",
       "\n",
       "    .dataframe thead th {\n",
       "        text-align: right;\n",
       "    }\n",
       "</style>\n",
       "<table border=\"1\" class=\"dataframe\">\n",
       "  <thead>\n",
       "    <tr style=\"text-align: right;\">\n",
       "      <th></th>\n",
       "      <th>Stav k: 20.10.2020</th>\n",
       "      <th>Stav k: 12.12.2020</th>\n",
       "      <th>Suma příjmů</th>\n",
       "      <th>Suma výdajů</th>\n",
       "      <th>Suma celkem</th>\n",
       "      <th>Běžný zůstatek</th>\n",
       "    </tr>\n",
       "  </thead>\n",
       "  <tbody>\n",
       "    <tr>\n",
       "      <th>0</th>\n",
       "      <td>0,00 CZK</td>\n",
       "      <td>1 017 743,89 CZK</td>\n",
       "      <td>1 227 764,89 CZK</td>\n",
       "      <td>-210 021,00 CZK</td>\n",
       "      <td>1 017 743,89 CZK</td>\n",
       "      <td>1 017 743,89 CZK</td>\n",
       "    </tr>\n",
       "  </tbody>\n",
       "</table>\n",
       "</div>"
      ],
      "text/plain": [
       "  Stav k: 20.10.2020 Stav k: 12.12.2020       Suma příjmů      Suma výdajů  \\\n",
       "0           0,00 CZK   1 017 743,89 CZK  1 227 764,89 CZK  -210 021,00 CZK   \n",
       "\n",
       "        Suma celkem    Běžný zůstatek  \n",
       "0  1 017 743,89 CZK  1 017 743,89 CZK  "
      ]
     },
     "execution_count": 2,
     "metadata": {},
     "output_type": "execute_result"
    }
   ],
   "source": [
    "[ sumy, tx ] = pd.read_html(\"https://ib.fio.cz/ib/transparent?a=20308993&f=20.10.2020&t=31.12.2020\")\n",
    "sumy"
   ]
  },
  {
   "cell_type": "code",
   "execution_count": 3,
   "metadata": {},
   "outputs": [
    {
     "data": {
      "text/html": [
       "<div>\n",
       "<style scoped>\n",
       "    .dataframe tbody tr th:only-of-type {\n",
       "        vertical-align: middle;\n",
       "    }\n",
       "\n",
       "    .dataframe tbody tr th {\n",
       "        vertical-align: top;\n",
       "    }\n",
       "\n",
       "    .dataframe thead th {\n",
       "        text-align: right;\n",
       "    }\n",
       "</style>\n",
       "<table border=\"1\" class=\"dataframe\">\n",
       "  <thead>\n",
       "    <tr style=\"text-align: right;\">\n",
       "      <th></th>\n",
       "      <th>Částka</th>\n",
       "      <th>Typ</th>\n",
       "      <th>Název protiúčtu</th>\n",
       "      <th>Zpráva pro příjemce</th>\n",
       "      <th>KS</th>\n",
       "      <th>VS</th>\n",
       "      <th>SS</th>\n",
       "      <th>Poznámka</th>\n",
       "    </tr>\n",
       "    <tr>\n",
       "      <th>Datum</th>\n",
       "      <th></th>\n",
       "      <th></th>\n",
       "      <th></th>\n",
       "      <th></th>\n",
       "      <th></th>\n",
       "      <th></th>\n",
       "      <th></th>\n",
       "      <th></th>\n",
       "    </tr>\n",
       "  </thead>\n",
       "  <tbody>\n",
       "    <tr>\n",
       "      <th>2020-10-23</th>\n",
       "      <td>2021.0</td>\n",
       "      <td>Platba převodem uvnitř banky</td>\n",
       "      <td>Minář, Mikuláš</td>\n",
       "      <td>Dar - PRO šťastnou plavbu, PRO lepší ČR.</td>\n",
       "      <td></td>\n",
       "      <td></td>\n",
       "      <td></td>\n",
       "      <td>Dar - PRO šťastnou plavbu, PRO lepší ČR.</td>\n",
       "    </tr>\n",
       "    <tr>\n",
       "      <th>2020-10-23</th>\n",
       "      <td>2021.0</td>\n",
       "      <td>Okamžitá příchozí platba</td>\n",
       "      <td>Ženatá Kamila</td>\n",
       "      <td></td>\n",
       "      <td>0</td>\n",
       "      <td></td>\n",
       "      <td></td>\n",
       "      <td>Ženatá Kamila</td>\n",
       "    </tr>\n",
       "    <tr>\n",
       "      <th>2020-10-23</th>\n",
       "      <td>200.0</td>\n",
       "      <td>Okamžitá příchozí platba</td>\n",
       "      <td>Baloun Marek</td>\n",
       "      <td>Ať se daří</td>\n",
       "      <td>0</td>\n",
       "      <td></td>\n",
       "      <td></td>\n",
       "      <td>Baloun Marek</td>\n",
       "    </tr>\n",
       "    <tr>\n",
       "      <th>2020-10-23</th>\n",
       "      <td>666.0</td>\n",
       "      <td>Platba převodem uvnitř banky</td>\n",
       "      <td>Beneš, Tomáš</td>\n",
       "      <td>Pravidelny prispevek Ceske cirkve satanisicke</td>\n",
       "      <td></td>\n",
       "      <td></td>\n",
       "      <td></td>\n",
       "      <td>Pravidelny prispevek Ceske cirkve satanisicke</td>\n",
       "    </tr>\n",
       "    <tr>\n",
       "      <th>2020-10-23</th>\n",
       "      <td>1111.0</td>\n",
       "      <td>Platba převodem uvnitř banky</td>\n",
       "      <td>Bulant, Vladislav</td>\n",
       "      <td></td>\n",
       "      <td></td>\n",
       "      <td></td>\n",
       "      <td></td>\n",
       "      <td></td>\n",
       "    </tr>\n",
       "    <tr>\n",
       "      <th>...</th>\n",
       "      <td>...</td>\n",
       "      <td>...</td>\n",
       "      <td>...</td>\n",
       "      <td>...</td>\n",
       "      <td>...</td>\n",
       "      <td>...</td>\n",
       "      <td>...</td>\n",
       "      <td>...</td>\n",
       "    </tr>\n",
       "    <tr>\n",
       "      <th>2020-12-11</th>\n",
       "      <td>2500.0</td>\n",
       "      <td>Okamžitá příchozí platba</td>\n",
       "      <td>IVANA JURENKOVÁ</td>\n",
       "      <td>Babišuv uplatek</td>\n",
       "      <td></td>\n",
       "      <td></td>\n",
       "      <td></td>\n",
       "      <td>IVANA JURENKOVÁ</td>\n",
       "    </tr>\n",
       "    <tr>\n",
       "      <th>2020-12-11</th>\n",
       "      <td>500.0</td>\n",
       "      <td>Bezhotovostní příjem</td>\n",
       "      <td>KATERINA TRESNAKOVA</td>\n",
       "      <td>PŘEVOD PROSTŘEDKŮ</td>\n",
       "      <td></td>\n",
       "      <td>322368</td>\n",
       "      <td></td>\n",
       "      <td>KATERINA TRESNAKOVA</td>\n",
       "    </tr>\n",
       "    <tr>\n",
       "      <th>2020-12-11</th>\n",
       "      <td>500.0</td>\n",
       "      <td>Okamžitá příchozí platba</td>\n",
       "      <td>Peterka Aleš,Ing.</td>\n",
       "      <td></td>\n",
       "      <td>0</td>\n",
       "      <td>13313</td>\n",
       "      <td></td>\n",
       "      <td>Peterka Aleš,Ing.</td>\n",
       "    </tr>\n",
       "    <tr>\n",
       "      <th>2020-12-11</th>\n",
       "      <td>100.0</td>\n",
       "      <td>Bezhotovostní příjem</td>\n",
       "      <td>DOCKAL TOMAS</td>\n",
       "      <td></td>\n",
       "      <td></td>\n",
       "      <td>322371</td>\n",
       "      <td></td>\n",
       "      <td>DOCKAL TOMAS</td>\n",
       "    </tr>\n",
       "    <tr>\n",
       "      <th>2020-12-12</th>\n",
       "      <td>300.0</td>\n",
       "      <td>Okamžitá příchozí platba</td>\n",
       "      <td>Kumstýř Miroslav,Ing</td>\n",
       "      <td></td>\n",
       "      <td>0</td>\n",
       "      <td>322385</td>\n",
       "      <td>1</td>\n",
       "      <td>Kumstýř Miroslav,Ing</td>\n",
       "    </tr>\n",
       "  </tbody>\n",
       "</table>\n",
       "<p>561 rows × 8 columns</p>\n",
       "</div>"
      ],
      "text/plain": [
       "            Částka                           Typ       Název protiúčtu  \\\n",
       "Datum                                                                    \n",
       "2020-10-23  2021.0  Platba převodem uvnitř banky        Minář, Mikuláš   \n",
       "2020-10-23  2021.0      Okamžitá příchozí platba         Ženatá Kamila   \n",
       "2020-10-23   200.0      Okamžitá příchozí platba          Baloun Marek   \n",
       "2020-10-23   666.0  Platba převodem uvnitř banky          Beneš, Tomáš   \n",
       "2020-10-23  1111.0  Platba převodem uvnitř banky     Bulant, Vladislav   \n",
       "...            ...                           ...                   ...   \n",
       "2020-12-11  2500.0      Okamžitá příchozí platba       IVANA JURENKOVÁ   \n",
       "2020-12-11   500.0          Bezhotovostní příjem   KATERINA TRESNAKOVA   \n",
       "2020-12-11   500.0      Okamžitá příchozí platba     Peterka Aleš,Ing.   \n",
       "2020-12-11   100.0          Bezhotovostní příjem          DOCKAL TOMAS   \n",
       "2020-12-12   300.0      Okamžitá příchozí platba  Kumstýř Miroslav,Ing   \n",
       "\n",
       "                                      Zpráva pro příjemce KS      VS SS  \\\n",
       "Datum                                                                     \n",
       "2020-10-23       Dar - PRO šťastnou plavbu, PRO lepší ČR.                 \n",
       "2020-10-23                                                 0              \n",
       "2020-10-23                                     Ať se daří  0              \n",
       "2020-10-23  Pravidelny prispevek Ceske cirkve satanisicke                 \n",
       "2020-10-23                                                                \n",
       "...                                                   ... ..     ... ..   \n",
       "2020-12-11                                Babišuv uplatek                 \n",
       "2020-12-11                              PŘEVOD PROSTŘEDKŮ     322368      \n",
       "2020-12-11                                                 0   13313      \n",
       "2020-12-11                                                    322371      \n",
       "2020-12-12                                                 0  322385  1   \n",
       "\n",
       "                                                 Poznámka  \n",
       "Datum                                                      \n",
       "2020-10-23       Dar - PRO šťastnou plavbu, PRO lepší ČR.  \n",
       "2020-10-23                                  Ženatá Kamila  \n",
       "2020-10-23                                   Baloun Marek  \n",
       "2020-10-23  Pravidelny prispevek Ceske cirkve satanisicke  \n",
       "2020-10-23                                                 \n",
       "...                                                   ...  \n",
       "2020-12-11                                IVANA JURENKOVÁ  \n",
       "2020-12-11                            KATERINA TRESNAKOVA  \n",
       "2020-12-11                              Peterka Aleš,Ing.  \n",
       "2020-12-11                                   DOCKAL TOMAS  \n",
       "2020-12-12                           Kumstýř Miroslav,Ing  \n",
       "\n",
       "[561 rows x 8 columns]"
      ]
     },
     "execution_count": 3,
     "metadata": {},
     "output_type": "execute_result"
    }
   ],
   "source": [
    "# reverse order and replace NaNs\n",
    "tx = tx.iloc[::-1].fillna('')\n",
    "# set Datum as index\n",
    "tx.index = pd.to_datetime(tx['Datum'], dayfirst=True)\n",
    "tx = tx.drop(columns=[\"Datum\"])\n",
    "# convert Částka to float\n",
    "tx['Částka'] = tx['Částka'].str.replace(\",\", \".\").str.replace(r\"[^0-9.\\-]\", \"\").astype(float)\n",
    "# exclude negative values (i.e. expenses)\n",
    "tx = tx[tx['Částka'] > 0]\n",
    "tx"
   ]
  },
  {
   "cell_type": "markdown",
   "metadata": {},
   "source": [
    "## Základní statistiky\n",
    "\n",
    "- počet, průměr, směrodatná odchylka, minimum, maximum, kvantily\n",
    "- kvantil *50%* je medián"
   ]
  },
  {
   "cell_type": "code",
   "execution_count": 4,
   "metadata": {},
   "outputs": [
    {
     "data": {
      "text/html": [
       "<div>\n",
       "<style scoped>\n",
       "    .dataframe tbody tr th:only-of-type {\n",
       "        vertical-align: middle;\n",
       "    }\n",
       "\n",
       "    .dataframe tbody tr th {\n",
       "        vertical-align: top;\n",
       "    }\n",
       "\n",
       "    .dataframe thead th {\n",
       "        text-align: right;\n",
       "    }\n",
       "</style>\n",
       "<table border=\"1\" class=\"dataframe\">\n",
       "  <thead>\n",
       "    <tr style=\"text-align: right;\">\n",
       "      <th></th>\n",
       "      <th>Částka</th>\n",
       "    </tr>\n",
       "  </thead>\n",
       "  <tbody>\n",
       "    <tr>\n",
       "      <th>count</th>\n",
       "      <td>561.000000</td>\n",
       "    </tr>\n",
       "    <tr>\n",
       "      <th>mean</th>\n",
       "      <td>2188.529216</td>\n",
       "    </tr>\n",
       "    <tr>\n",
       "      <th>std</th>\n",
       "      <td>14499.852937</td>\n",
       "    </tr>\n",
       "    <tr>\n",
       "      <th>min</th>\n",
       "      <td>0.010000</td>\n",
       "    </tr>\n",
       "    <tr>\n",
       "      <th>25%</th>\n",
       "      <td>300.000000</td>\n",
       "    </tr>\n",
       "    <tr>\n",
       "      <th>50%</th>\n",
       "      <td>500.000000</td>\n",
       "    </tr>\n",
       "    <tr>\n",
       "      <th>75%</th>\n",
       "      <td>1000.000000</td>\n",
       "    </tr>\n",
       "    <tr>\n",
       "      <th>max</th>\n",
       "      <td>297059.450000</td>\n",
       "    </tr>\n",
       "  </tbody>\n",
       "</table>\n",
       "</div>"
      ],
      "text/plain": [
       "              Částka\n",
       "count     561.000000\n",
       "mean     2188.529216\n",
       "std     14499.852937\n",
       "min         0.010000\n",
       "25%       300.000000\n",
       "50%       500.000000\n",
       "75%      1000.000000\n",
       "max    297059.450000"
      ]
     },
     "execution_count": 4,
     "metadata": {},
     "output_type": "execute_result"
    }
   ],
   "source": [
    "tx.describe()"
   ]
  },
  {
   "cell_type": "markdown",
   "metadata": {},
   "source": [
    "## Výše příspěvků v jednotlivé dny"
   ]
  },
  {
   "cell_type": "code",
   "execution_count": null,
   "metadata": {},
   "outputs": [
    {
     "data": {
      "text/plain": [
       "<AxesSubplot:xlabel='Datum'>"
      ]
     },
     "execution_count": 5,
     "metadata": {},
     "output_type": "execute_result"
    }
   ],
   "source": [
    "# contributions by days\n",
    "cbd = tx['Částka'].groupby('Datum').sum().resample(\"1d\").pad()\n",
    "\n",
    "plt.ticklabel_format(style = 'plain')\n",
    "ax = plt.gca()\n",
    "ax.yaxis.set_major_formatter(matplotlib.ticker.FuncFormatter(lambda x, p: format(int(x), ',')))\n",
    "\n",
    "cbd.plot(kind='bar', ax=ax)"
   ]
  },
  {
   "cell_type": "markdown",
   "metadata": {},
   "source": [
    "## Celková suma příspěvků v čase"
   ]
  },
  {
   "cell_type": "code",
   "execution_count": null,
   "metadata": {},
   "outputs": [],
   "source": [
    "f = plt.figure()\n",
    "plt.ticklabel_format(style = 'plain')\n",
    "ax = plt.gca()\n",
    "ax.yaxis.set_major_formatter(matplotlib.ticker.FuncFormatter(lambda x, p: format(int(x), ',')))\n",
    "\n",
    "tx['Částka'].cumsum().plot(ax=ax, xticks=cbd.index[::3])"
   ]
  },
  {
   "cell_type": "markdown",
   "metadata": {},
   "source": [
    "## Nejčetnější výše příspěvků\n",
    "\n",
    "- jakými částkami přispívají lidé nejčastěji"
   ]
  },
  {
   "cell_type": "code",
   "execution_count": null,
   "metadata": {},
   "outputs": [],
   "source": [
    "# amount frequencies\n",
    "amf = tx.value_counts(['Částka']).to_frame(name='Četnost')\n",
    "amf['% Příspěvků'] = (100 * amf['Četnost'] / amf['Četnost'].sum()).round(2)\n",
    "amf['% Vybraného'] = (100 * amf.index.get_level_values(0) * amf['Četnost'] / (amf.index.get_level_values(0) * amf['Četnost']).sum()).round(2)\n",
    "amf.sort_values(by=['Četnost','% Vybraného'], ascending=False)[:10]"
   ]
  },
  {
   "cell_type": "markdown",
   "metadata": {},
   "source": [
    "## Nejvýznamnější výše příspěvků\n",
    "\n",
    "* které výše přispěvku přispívají nejvíc k celkové sumě"
   ]
  },
  {
   "cell_type": "code",
   "execution_count": null,
   "metadata": {},
   "outputs": [],
   "source": [
    "amf.sort_values(by='% Vybraného', ascending=False)[:10]"
   ]
  }
 ],
 "metadata": {
  "kernelspec": {
   "display_name": "Python 3",
   "language": "python",
   "name": "python3"
  },
  "language_info": {
   "codemirror_mode": {
    "name": "ipython",
    "version": 3
   },
   "file_extension": ".py",
   "mimetype": "text/x-python",
   "name": "python",
   "nbconvert_exporter": "python",
   "pygments_lexer": "ipython3",
   "version": "3.8.6"
  }
 },
 "nbformat": 4,
 "nbformat_minor": 4
}
