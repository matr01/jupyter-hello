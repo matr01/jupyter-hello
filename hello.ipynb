{
 "cells": [
  {
   "cell_type": "markdown",
   "metadata": {},
   "source": [
    "# Hello world\n",
    "\n",
    "This is a markdown cell. It may even use $\\LaTeX$ syntax for formulas like $F(x) = \\int^a_b \\frac{1}{3}x^3$ .\n",
    "\n",
    "Or on their own line like:\n",
    "$$e^x=\\sum_{i=0}^\\infty \\frac{1}{i!}x^i$$"
   ]
  },
  {
   "cell_type": "code",
   "execution_count": 1,
   "metadata": {},
   "outputs": [
    {
     "name": "stdout",
     "output_type": "stream",
     "text": [
      "Hello World!\n"
     ]
    }
   ],
   "source": [
    "print('Hello World!')"
   ]
  },
  {
   "cell_type": "code",
   "execution_count": 2,
   "metadata": {
    "scrolled": true
   },
   "outputs": [
    {
     "data": {
      "text/plain": [
       "[<matplotlib.lines.Line2D at 0x7ff2a87cee90>]"
      ]
     },
     "execution_count": 2,
     "metadata": {},
     "output_type": "execute_result"
    },
    {
     "data": {
      "image/png": "[encoded data removed]",
      "text/plain": [
       "<Figure size 432x288 with 1 Axes>"
      ]
     },
     "metadata": {
      "needs_background": "light"
     },
     "output_type": "display_data"
    }
   ],
   "source": [
    "%matplotlib inline\n",
    "import matplotlib.pyplot as plt\n",
    "import numpy as np\n",
    "\n",
    "x = np.linspace(0, 10, 100)\n",
    "\n",
    "fig = plt.figure()\n",
    "plt.plot(x, np.sin(x) * np.cos(x))\n",
    "plt.plot(x, np.cos(x))"
   ]
  },
  {
   "cell_type": "code",
   "execution_count": 3,
   "metadata": {},
   "outputs": [
    {
     "name": "stdout",
     "output_type": "stream",
     "text": [
      "hello.ipynb  LICENSE  README.md  requirements.txt\r\n",
      "\r\n",
      "numpy\r\n",
      "matplotlib\r\n"
     ]
    }
   ],
   "source": [
    "!ls && echo && cat requirements.txt"
   ]
  },
  {
   "cell_type": "code",
   "execution_count": 4,
   "metadata": {
    "scrolled": true
   },
   "outputs": [
    {
     "name": "stdout",
     "output_type": "stream",
     "text": [
      "<!doctype html>\r\n",
      "<html>\r\n",
      "<head>\r\n",
      "    <title>Example Domain</title>\r\n",
      "\r\n",
      "    <meta charset=\"utf-8\" />\r\n",
      "    <meta http-equiv=\"Content-type\" content=\"text/html; charset=utf-8\" />\r\n",
      "    <meta name=\"viewport\" content=\"width=device-width, initial-scale=1\" />\r\n",
      "    <style type=\"text/css\">\r\n",
      "    body {\r\n",
      "        background-color: #f0f0f2;\r\n",
      "        margin: 0;\r\n",
      "        padding: 0;\r\n",
      "        font-family: -apple-system, system-ui, BlinkMacSystemFont, \"Segoe UI\", \"Open Sans\", \"Helvetica Neue\", Helvetica, Arial, sans-serif;\r\n",
      "        \r\n",
      "    }\r\n",
      "    div {\r\n",
      "        width: 600px;\r\n",
      "        margin: 5em auto;\r\n",
      "        padding: 2em;\r\n",
      "        background-color: #fdfdff;\r\n",
      "        border-radius: 0.5em;\r\n",
      "        box-shadow: 2px 3px 7px 2px rgba(0,0,0,0.02);\r\n",
      "    }\r\n",
      "    a:link, a:visited {\r\n",
      "        color: #38488f;\r\n",
      "        text-decoration: none;\r\n",
      "    }\r\n",
      "    @media (max-width: 700px) {\r\n",
      "        div {\r\n",
      "            margin: 0 auto;\r\n",
      "            width: auto;\r\n",
      "        }\r\n",
      "    }\r\n",
      "    </style>    \r\n",
      "</head>\r\n",
      "\r\n",
      "<body>\r\n",
      "<div>\r\n",
      "    <h1>Example Domain</h1>\r\n",
      "    <p>This domain is for use in illustrative examples in documents. You may use this\r\n",
      "    domain in literature without prior coordination or asking for permission.</p>\r\n",
      "    <p><a href=\"https://www.iana.org/domains/example\">More information...</a></p>\r\n",
      "</div>\r\n",
      "</body>\r\n",
      "</html>\r\n"
     ]
    }
   ],
   "source": [
    "!wget -q -O - \"http://example.com\""
   ]
  }
 ],
 "metadata": {
  "kernelspec": {
   "display_name": "Python 3",
   "language": "python",
   "name": "python3"
  },
  "language_info": {
   "codemirror_mode": {
    "name": "ipython",
    "version": 3
   },
   "file_extension": ".py",
   "mimetype": "text/x-python",
   "name": "python",
   "nbconvert_exporter": "python",
   "pygments_lexer": "ipython3",
   "version": "3.7.6"
  }
 },
 "nbformat": 4,
 "nbformat_minor": 2
}
