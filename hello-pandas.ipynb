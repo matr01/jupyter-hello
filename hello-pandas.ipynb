{
 "cells": [
  {
   "cell_type": "markdown",
   "metadata": {},
   "source": [
    "# Hello Pandas [<img src=\"http://mybinder.org/badge.svg\" align=\"right\">](http://mybinder.org/repo/matr01/jupyter-hello?filepath=hello-pandas.ipynb)\n",
    "\n",
    "inspired by https://gitlab.com/jan.kolomaznik/pydata"
   ]
  },
  {
   "cell_type": "code",
   "execution_count": 2,
   "metadata": {},
   "outputs": [],
   "source": [
    "import pandas as pd\n",
    "import numpy as np\n",
    "import matplotlib.pyplot as plt\n",
    "%matplotlib inline"
   ]
  },
  {
   "cell_type": "markdown",
   "metadata": {},
   "source": [
    "### Získání seznamu měst v Česku podle počtu obyvatel\n",
    "\n",
    "z wikipedia do DataFrame\n",
    "\n",
    "\\+ úprava formátovaných čísel a převod zpět na číslo"
   ]
  },
  {
   "cell_type": "code",
   "execution_count": 3,
   "metadata": {},
   "outputs": [
    {
     "data": {
      "text/html": [
       "<div>\n",
       "<style scoped>\n",
       "    .dataframe tbody tr th:only-of-type {\n",
       "        vertical-align: middle;\n",
       "    }\n",
       "\n",
       "    .dataframe tbody tr th {\n",
       "        vertical-align: top;\n",
       "    }\n",
       "\n",
       "    .dataframe thead th {\n",
       "        text-align: right;\n",
       "    }\n",
       "</style>\n",
       "<table border=\"1\" class=\"dataframe\">\n",
       "  <thead>\n",
       "    <tr style=\"text-align: right;\">\n",
       "      <th></th>\n",
       "      <th>Počet obyvatel</th>\n",
       "      <th>Rozloha (km2)</th>\n",
       "      <th>Okres</th>\n",
       "    </tr>\n",
       "    <tr>\n",
       "      <th>Článek</th>\n",
       "      <th></th>\n",
       "      <th></th>\n",
       "      <th></th>\n",
       "    </tr>\n",
       "  </thead>\n",
       "  <tbody>\n",
       "    <tr>\n",
       "      <th>Praha</th>\n",
       "      <td>1324277</td>\n",
       "      <td>49621</td>\n",
       "      <td>Praha</td>\n",
       "    </tr>\n",
       "    <tr>\n",
       "      <th>Brno</th>\n",
       "      <td>381346</td>\n",
       "      <td>23018</td>\n",
       "      <td>okres Brno-město</td>\n",
       "    </tr>\n",
       "    <tr>\n",
       "      <th>Ostrava</th>\n",
       "      <td>287968</td>\n",
       "      <td>21423</td>\n",
       "      <td>okres Ostrava-město</td>\n",
       "    </tr>\n",
       "    <tr>\n",
       "      <th>Plzeň</th>\n",
       "      <td>174842</td>\n",
       "      <td>13767</td>\n",
       "      <td>okres Plzeň-město</td>\n",
       "    </tr>\n",
       "    <tr>\n",
       "      <th>Liberec</th>\n",
       "      <td>104802</td>\n",
       "      <td>10609</td>\n",
       "      <td>okres Liberec</td>\n",
       "    </tr>\n",
       "    <tr>\n",
       "      <th>...</th>\n",
       "      <td>...</td>\n",
       "      <td>...</td>\n",
       "      <td>...</td>\n",
       "    </tr>\n",
       "    <tr>\n",
       "      <th>Janov</th>\n",
       "      <td>284</td>\n",
       "      <td>1103</td>\n",
       "      <td>okres Bruntál</td>\n",
       "    </tr>\n",
       "    <tr>\n",
       "      <th>Boží Dar</th>\n",
       "      <td>250</td>\n",
       "      <td>3791</td>\n",
       "      <td>okres Karlovy Vary</td>\n",
       "    </tr>\n",
       "    <tr>\n",
       "      <th>Rejštejn</th>\n",
       "      <td>247</td>\n",
       "      <td>3043</td>\n",
       "      <td>okres Klatovy</td>\n",
       "    </tr>\n",
       "    <tr>\n",
       "      <th>Loučná pod Klínovcem</th>\n",
       "      <td>121</td>\n",
       "      <td>2089</td>\n",
       "      <td>okres Chomutov</td>\n",
       "    </tr>\n",
       "    <tr>\n",
       "      <th>Přebuz</th>\n",
       "      <td>73</td>\n",
       "      <td>2979</td>\n",
       "      <td>okres Sokolov</td>\n",
       "    </tr>\n",
       "  </tbody>\n",
       "</table>\n",
       "<p>608 rows × 3 columns</p>\n",
       "</div>"
      ],
      "text/plain": [
       "                      Počet obyvatel  Rozloha (km2)                Okres\n",
       "Článek                                                                  \n",
       "Praha                        1324277          49621                Praha\n",
       "Brno                          381346          23018     okres Brno-město\n",
       "Ostrava                       287968          21423  okres Ostrava-město\n",
       "Plzeň                         174842          13767    okres Plzeň-město\n",
       "Liberec                       104802          10609        okres Liberec\n",
       "...                              ...            ...                  ...\n",
       "Janov                            284           1103        okres Bruntál\n",
       "Boží Dar                         250           3791   okres Karlovy Vary\n",
       "Rejštejn                         247           3043        okres Klatovy\n",
       "Loučná pod Klínovcem             121           2089       okres Chomutov\n",
       "Přebuz                            73           2979        okres Sokolov\n",
       "\n",
       "[608 rows x 3 columns]"
      ]
     },
     "execution_count": 3,
     "metadata": {},
     "output_type": "execute_result"
    }
   ],
   "source": [
    "mesta = (pd.read_html(\"https://cs.wikipedia.org/wiki/Seznam_m%C4%9Bst_v_%C4%8Cesku_podle_po%C4%8Dtu_obyvatel\")\n",
    "         [0] # Data jsou v prvni tabulce\n",
    "         .drop(columns=[\"Obrázek\", \"#\"])\n",
    "         .set_index(\"Článek\"))\n",
    "mesta['Počet obyvatel'] = mesta['Počet obyvatel'].str.replace(r\"\\s\", \"\").astype(int)\n",
    "mesta"
   ]
  },
  {
   "cell_type": "markdown",
   "metadata": {},
   "source": [
    "### Vykreslení počtu obyvatel měst\n",
    "\n",
    "v logaritmické stupnici"
   ]
  },
  {
   "cell_type": "code",
   "execution_count": 3,
   "metadata": {
    "scrolled": false
   },
   "outputs": [
    {
     "data": {
      "text/plain": [
       "<AxesSubplot:xlabel='Článek'>"
      ]
     },
     "execution_count": 3,
     "metadata": {},
     "output_type": "execute_result"
    },
    {
     "data": {
      "image/png": "[encoded data removed]",
      "text/plain": [
       "<Figure size 1152x432 with 1 Axes>"
      ]
     },
     "metadata": {
      "needs_background": "light"
     },
     "output_type": "display_data"
    }
   ],
   "source": [
    "mesta['Počet obyvatel'].plot(figsize=(16,6),logy=True)"
   ]
  },
  {
   "cell_type": "markdown",
   "metadata": {},
   "source": [
    "### Vykreslení histogramu velikosti měst\n",
    "\n",
    "počet měst s počtem obyvatel v rozmezí od-do\n",
    "\n",
    "s logaritmickými skupinami, v logaritmických stupnicích"
   ]
  },
  {
   "cell_type": "code",
   "execution_count": 48,
   "metadata": {},
   "outputs": [
    {
     "data": {
      "text/plain": [
       "<AxesSubplot:ylabel='Frequency'>"
      ]
     },
     "execution_count": 48,
     "metadata": {},
     "output_type": "execute_result"
    },
    {
     "data": {
      "image/png": "[encoded data removed]",
      "text/plain": [
       "<Figure size 864x432 with 1 Axes>"
      ]
     },
     "metadata": {
      "needs_background": "light"
     },
     "output_type": "display_data"
    }
   ],
   "source": [
    "mesta['Počet obyvatel'].plot.hist(\n",
    "    figsize=(12,6),bins=10**(np.arange(1.5,6.5,0.25)),logy=True,logx=True)"
   ]
  },
  {
   "cell_type": "code",
   "execution_count": 57,
   "metadata": {},
   "outputs": [
    {
     "data": {
      "text/plain": [
       "<AxesSubplot:xlabel='Počet obyvatel', ylabel='Rozloha (km2)'>"
      ]
     },
     "execution_count": 57,
     "metadata": {},
     "output_type": "execute_result"
    },
    {
     "data": {
      "image/png": "[encoded data removed]",
      "text/plain": [
       "<Figure size 864x432 with 1 Axes>"
      ]
     },
     "metadata": {
      "needs_background": "light"
     },
     "output_type": "display_data"
    }
   ],
   "source": [
    "mesta.plot.scatter(x=\"Počet obyvatel\",y=\"Rozloha (km2)\",logy=True,logx=True,figsize=(12,6))"
   ]
  },
  {
   "cell_type": "code",
   "execution_count": 3,
   "metadata": {},
   "outputs": [
    {
     "data": {
      "text/plain": [
       "<AxesSubplot:xlabel='y(t)', ylabel='y(t + 1)'>"
      ]
     },
     "execution_count": 3,
     "metadata": {},
     "output_type": "execute_result"
    },
    {
     "data": {
      "image/png": "[encoded data removed]",
      "text/plain": [
       "<Figure size 432x288 with 1 Axes>"
      ]
     },
     "metadata": {
      "needs_background": "light"
     },
     "output_type": "display_data"
    }
   ],
   "source": [
    "from pandas.plotting import lag_plot\n",
    "\n",
    "lag_plot(np.log(mesta['Počet obyvatel']))"
   ]
  },
  {
   "cell_type": "code",
   "execution_count": 4,
   "metadata": {},
   "outputs": [
    {
     "data": {
      "text/html": [
       "<div>\n",
       "<style scoped>\n",
       "    .dataframe tbody tr th:only-of-type {\n",
       "        vertical-align: middle;\n",
       "    }\n",
       "\n",
       "    .dataframe tbody tr th {\n",
       "        vertical-align: top;\n",
       "    }\n",
       "\n",
       "    .dataframe thead th {\n",
       "        text-align: right;\n",
       "    }\n",
       "</style>\n",
       "<table border=\"1\" class=\"dataframe\">\n",
       "  <thead>\n",
       "    <tr style=\"text-align: right;\">\n",
       "      <th></th>\n",
       "      <th>Počet obyvatel</th>\n",
       "      <th>Rozloha (km2)</th>\n",
       "    </tr>\n",
       "  </thead>\n",
       "  <tbody>\n",
       "    <tr>\n",
       "      <th>Počet obyvatel</th>\n",
       "      <td>1.000000</td>\n",
       "      <td>0.712348</td>\n",
       "    </tr>\n",
       "    <tr>\n",
       "      <th>Rozloha (km2)</th>\n",
       "      <td>0.712348</td>\n",
       "      <td>1.000000</td>\n",
       "    </tr>\n",
       "  </tbody>\n",
       "</table>\n",
       "</div>"
      ],
      "text/plain": [
       "                Počet obyvatel  Rozloha (km2)\n",
       "Počet obyvatel        1.000000       0.712348\n",
       "Rozloha (km2)         0.712348       1.000000"
      ]
     },
     "execution_count": 4,
     "metadata": {},
     "output_type": "execute_result"
    }
   ],
   "source": [
    "mesta.corr()"
   ]
  },
  {
   "cell_type": "markdown",
   "metadata": {},
   "source": [
    "### Blood pressure monitor data"
   ]
  },
  {
   "cell_type": "code",
   "execution_count": 4,
   "metadata": {},
   "outputs": [
    {
     "data": {
      "text/html": [
       "<div>\n",
       "<style scoped>\n",
       "    .dataframe tbody tr th:only-of-type {\n",
       "        vertical-align: middle;\n",
       "    }\n",
       "\n",
       "    .dataframe tbody tr th {\n",
       "        vertical-align: top;\n",
       "    }\n",
       "\n",
       "    .dataframe thead th {\n",
       "        text-align: right;\n",
       "    }\n",
       "</style>\n",
       "<table border=\"1\" class=\"dataframe\">\n",
       "  <thead>\n",
       "    <tr style=\"text-align: right;\">\n",
       "      <th></th>\n",
       "      <th>time</th>\n",
       "      <th>pulse</th>\n",
       "      <th>sys</th>\n",
       "      <th>dias</th>\n",
       "    </tr>\n",
       "  </thead>\n",
       "  <tbody>\n",
       "    <tr>\n",
       "      <th>0</th>\n",
       "      <td>2020-09-02 15:57:59.500000</td>\n",
       "      <td>65.0</td>\n",
       "      <td>120.0</td>\n",
       "      <td>80.0</td>\n",
       "    </tr>\n",
       "    <tr>\n",
       "      <th>1</th>\n",
       "      <td>2020-09-03 08:48:47.450000</td>\n",
       "      <td>95.0</td>\n",
       "      <td>120.0</td>\n",
       "      <td>90.0</td>\n",
       "    </tr>\n",
       "    <tr>\n",
       "      <th>2</th>\n",
       "      <td>2020-09-03 09:19:13.117000</td>\n",
       "      <td>256.0</td>\n",
       "      <td>1520.0</td>\n",
       "      <td>25.0</td>\n",
       "    </tr>\n",
       "    <tr>\n",
       "      <th>3</th>\n",
       "      <td>2020-09-03 09:21:24.435000</td>\n",
       "      <td>105.0</td>\n",
       "      <td>130.0</td>\n",
       "      <td>85.0</td>\n",
       "    </tr>\n",
       "    <tr>\n",
       "      <th>4</th>\n",
       "      <td>2020-09-04 14:09:40.547000</td>\n",
       "      <td>86.0</td>\n",
       "      <td>120.0</td>\n",
       "      <td>80.0</td>\n",
       "    </tr>\n",
       "    <tr>\n",
       "      <th>...</th>\n",
       "      <td>...</td>\n",
       "      <td>...</td>\n",
       "      <td>...</td>\n",
       "      <td>...</td>\n",
       "    </tr>\n",
       "    <tr>\n",
       "      <th>60</th>\n",
       "      <td>2020-09-09 11:47:55.000000</td>\n",
       "      <td>61.0</td>\n",
       "      <td>134.0</td>\n",
       "      <td>76.0</td>\n",
       "    </tr>\n",
       "    <tr>\n",
       "      <th>61</th>\n",
       "      <td>2020-09-09 11:49:33.000000</td>\n",
       "      <td>75.0</td>\n",
       "      <td>116.0</td>\n",
       "      <td>74.0</td>\n",
       "    </tr>\n",
       "    <tr>\n",
       "      <th>62</th>\n",
       "      <td>2020-09-09 11:52:31.000000</td>\n",
       "      <td>61.0</td>\n",
       "      <td>146.0</td>\n",
       "      <td>86.0</td>\n",
       "    </tr>\n",
       "    <tr>\n",
       "      <th>63</th>\n",
       "      <td>2020-09-09 12:34:39.000000</td>\n",
       "      <td>73.0</td>\n",
       "      <td>129.0</td>\n",
       "      <td>82.0</td>\n",
       "    </tr>\n",
       "    <tr>\n",
       "      <th>64</th>\n",
       "      <td>2020-09-09 12:52:15.000000</td>\n",
       "      <td>76.0</td>\n",
       "      <td>126.0</td>\n",
       "      <td>86.0</td>\n",
       "    </tr>\n",
       "  </tbody>\n",
       "</table>\n",
       "<p>65 rows × 4 columns</p>\n",
       "</div>"
      ],
      "text/plain": [
       "                          time  pulse     sys  dias\n",
       "0   2020-09-02 15:57:59.500000   65.0   120.0  80.0\n",
       "1   2020-09-03 08:48:47.450000   95.0   120.0  90.0\n",
       "2   2020-09-03 09:19:13.117000  256.0  1520.0  25.0\n",
       "3   2020-09-03 09:21:24.435000  105.0   130.0  85.0\n",
       "4   2020-09-04 14:09:40.547000   86.0   120.0  80.0\n",
       "..                         ...    ...     ...   ...\n",
       "60  2020-09-09 11:47:55.000000   61.0   134.0  76.0\n",
       "61  2020-09-09 11:49:33.000000   75.0   116.0  74.0\n",
       "62  2020-09-09 11:52:31.000000   61.0   146.0  86.0\n",
       "63  2020-09-09 12:34:39.000000   73.0   129.0  82.0\n",
       "64  2020-09-09 12:52:15.000000   76.0   126.0  86.0\n",
       "\n",
       "[65 rows x 4 columns]"
      ]
     },
     "execution_count": 4,
     "metadata": {},
     "output_type": "execute_result"
    }
   ],
   "source": [
    "samples = pd.read_csv(\"data/sensor_data_pressure.csv\")\n",
    "samples"
   ]
  },
  {
   "cell_type": "code",
   "execution_count": 6,
   "metadata": {},
   "outputs": [
    {
     "data": {
      "text/html": [
       "<div>\n",
       "<style scoped>\n",
       "    .dataframe tbody tr th:only-of-type {\n",
       "        vertical-align: middle;\n",
       "    }\n",
       "\n",
       "    .dataframe tbody tr th {\n",
       "        vertical-align: top;\n",
       "    }\n",
       "\n",
       "    .dataframe thead th {\n",
       "        text-align: right;\n",
       "    }\n",
       "</style>\n",
       "<table border=\"1\" class=\"dataframe\">\n",
       "  <thead>\n",
       "    <tr style=\"text-align: right;\">\n",
       "      <th></th>\n",
       "      <th>pulse</th>\n",
       "      <th>sys</th>\n",
       "      <th>dias</th>\n",
       "    </tr>\n",
       "  </thead>\n",
       "  <tbody>\n",
       "    <tr>\n",
       "      <th>pulse</th>\n",
       "      <td>1.000000</td>\n",
       "      <td>-0.329190</td>\n",
       "      <td>-0.339309</td>\n",
       "    </tr>\n",
       "    <tr>\n",
       "      <th>sys</th>\n",
       "      <td>-0.329190</td>\n",
       "      <td>1.000000</td>\n",
       "      <td>0.827567</td>\n",
       "    </tr>\n",
       "    <tr>\n",
       "      <th>dias</th>\n",
       "      <td>-0.339309</td>\n",
       "      <td>0.827567</td>\n",
       "      <td>1.000000</td>\n",
       "    </tr>\n",
       "  </tbody>\n",
       "</table>\n",
       "</div>"
      ],
      "text/plain": [
       "          pulse       sys      dias\n",
       "pulse  1.000000 -0.329190 -0.339309\n",
       "sys   -0.329190  1.000000  0.827567\n",
       "dias  -0.339309  0.827567  1.000000"
      ]
     },
     "execution_count": 6,
     "metadata": {},
     "output_type": "execute_result"
    }
   ],
   "source": [
    "# filter out outliers (i.e. numbers more distant from the mean than three times the standard deviation)\n",
    "samp = samples[np.abs(samples[\"sys\"]-samples[\"sys\"].mean()) <= (3*samples[\"sys\"].std())]\n",
    "samp.corr()"
   ]
  },
  {
   "cell_type": "code",
   "execution_count": 7,
   "metadata": {},
   "outputs": [
    {
     "data": {
      "text/plain": [
       "<AxesSubplot:>"
      ]
     },
     "execution_count": 7,
     "metadata": {},
     "output_type": "execute_result"
    },
    {
     "data": {
      "image/png": "[encoded data removed]",
      "text/plain": [
       "<Figure size 432x288 with 1 Axes>"
      ]
     },
     "metadata": {
      "needs_background": "light"
     },
     "output_type": "display_data"
    }
   ],
   "source": [
    "samp[[\"sys\",\"dias\"]].plot()"
   ]
  },
  {
   "cell_type": "code",
   "execution_count": 8,
   "metadata": {},
   "outputs": [
    {
     "data": {
      "text/plain": [
       "<AxesSubplot:xlabel='sys', ylabel='dias'>"
      ]
     },
     "execution_count": 8,
     "metadata": {},
     "output_type": "execute_result"
    },
    {
     "data": {
      "image/png": "[encoded data removed]",
      "text/plain": [
       "<Figure size 432x432 with 1 Axes>"
      ]
     },
     "metadata": {
      "needs_background": "light"
     },
     "output_type": "display_data"
    }
   ],
   "source": [
    "samp.plot.scatter(x=\"sys\",y=\"dias\",figsize=(6,6))"
   ]
  },
  {
   "cell_type": "code",
   "execution_count": 27,
   "metadata": {},
   "outputs": [
    {
     "data": {
      "text/plain": [
       "<AxesSubplot:ylabel='Frequency'>"
      ]
     },
     "execution_count": 27,
     "metadata": {},
     "output_type": "execute_result"
    },
    {
     "data": {
      "image/png": "[encoded data removed]",
      "text/plain": [
       "<Figure size 864x432 with 1 Axes>"
      ]
     },
     "metadata": {
      "needs_background": "light"
     },
     "output_type": "display_data"
    }
   ],
   "source": [
    "samp[[\"sys\",\"dias\"]].plot.hist(bins=16,alpha=0.7,figsize=(12,6))"
   ]
  },
  {
   "cell_type": "code",
   "execution_count": 31,
   "metadata": {},
   "outputs": [
    {
     "name": "stdout",
     "output_type": "stream",
     "text": [
      "<class 'pandas.core.frame.DataFrame'>\n",
      "Int64Index: 64 entries, 0 to 64\n",
      "Data columns (total 2 columns):\n",
      " #   Column  Non-Null Count  Dtype  \n",
      "---  ------  --------------  -----  \n",
      " 0   sys     64 non-null     float64\n",
      " 1   dias    64 non-null     float64\n",
      "dtypes: float64(2)\n",
      "memory usage: 1.5 KB\n"
     ]
    }
   ],
   "source": [
    "samp[[\"sys\",\"dias\"]].info()"
   ]
  },
  {
   "cell_type": "code",
   "execution_count": 34,
   "metadata": {},
   "outputs": [
    {
     "data": {
      "text/html": [
       "<div>\n",
       "<style scoped>\n",
       "    .dataframe tbody tr th:only-of-type {\n",
       "        vertical-align: middle;\n",
       "    }\n",
       "\n",
       "    .dataframe tbody tr th {\n",
       "        vertical-align: top;\n",
       "    }\n",
       "\n",
       "    .dataframe thead th {\n",
       "        text-align: right;\n",
       "    }\n",
       "</style>\n",
       "<table border=\"1\" class=\"dataframe\">\n",
       "  <thead>\n",
       "    <tr style=\"text-align: right;\">\n",
       "      <th></th>\n",
       "      <th>pulse</th>\n",
       "      <th>sys</th>\n",
       "      <th>dias</th>\n",
       "    </tr>\n",
       "  </thead>\n",
       "  <tbody>\n",
       "    <tr>\n",
       "      <th>count</th>\n",
       "      <td>64.000000</td>\n",
       "      <td>64.000000</td>\n",
       "      <td>64.000000</td>\n",
       "    </tr>\n",
       "    <tr>\n",
       "      <th>mean</th>\n",
       "      <td>77.531250</td>\n",
       "      <td>124.828125</td>\n",
       "      <td>82.625000</td>\n",
       "    </tr>\n",
       "    <tr>\n",
       "      <th>std</th>\n",
       "      <td>8.956631</td>\n",
       "      <td>12.366820</td>\n",
       "      <td>10.217476</td>\n",
       "    </tr>\n",
       "    <tr>\n",
       "      <th>min</th>\n",
       "      <td>61.000000</td>\n",
       "      <td>102.000000</td>\n",
       "      <td>64.000000</td>\n",
       "    </tr>\n",
       "    <tr>\n",
       "      <th>25%</th>\n",
       "      <td>69.750000</td>\n",
       "      <td>117.000000</td>\n",
       "      <td>75.750000</td>\n",
       "    </tr>\n",
       "    <tr>\n",
       "      <th>50%</th>\n",
       "      <td>80.000000</td>\n",
       "      <td>129.000000</td>\n",
       "      <td>84.000000</td>\n",
       "    </tr>\n",
       "    <tr>\n",
       "      <th>75%</th>\n",
       "      <td>83.000000</td>\n",
       "      <td>129.250000</td>\n",
       "      <td>91.000000</td>\n",
       "    </tr>\n",
       "    <tr>\n",
       "      <th>max</th>\n",
       "      <td>105.000000</td>\n",
       "      <td>154.000000</td>\n",
       "      <td>106.000000</td>\n",
       "    </tr>\n",
       "  </tbody>\n",
       "</table>\n",
       "</div>"
      ],
      "text/plain": [
       "            pulse         sys        dias\n",
       "count   64.000000   64.000000   64.000000\n",
       "mean    77.531250  124.828125   82.625000\n",
       "std      8.956631   12.366820   10.217476\n",
       "min     61.000000  102.000000   64.000000\n",
       "25%     69.750000  117.000000   75.750000\n",
       "50%     80.000000  129.000000   84.000000\n",
       "75%     83.000000  129.250000   91.000000\n",
       "max    105.000000  154.000000  106.000000"
      ]
     },
     "execution_count": 34,
     "metadata": {},
     "output_type": "execute_result"
    }
   ],
   "source": [
    "samp.describe()"
   ]
  },
  {
   "cell_type": "code",
   "execution_count": null,
   "metadata": {},
   "outputs": [],
   "source": []
  }
 ],
 "metadata": {
  "kernelspec": {
   "display_name": "Python 3",
   "language": "python",
   "name": "python3"
  },
  "language_info": {
   "codemirror_mode": {
    "name": "ipython",
    "version": 3
   },
   "file_extension": ".py",
   "mimetype": "text/x-python",
   "name": "python",
   "nbconvert_exporter": "python",
   "pygments_lexer": "ipython3",
   "version": "3.8.6"
  }
 },
 "nbformat": 4,
 "nbformat_minor": 4
}
